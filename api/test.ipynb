{
 "cells": [
  {
   "cell_type": "code",
   "execution_count": 55,
   "metadata": {},
   "outputs": [
    {
     "ename": "SyntaxError",
     "evalue": "unterminated string literal (detected at line 23) (1055782120.py, line 23)",
     "output_type": "error",
     "traceback": [
      "\u001b[1;36m  Cell \u001b[1;32mIn[55], line 23\u001b[1;36m\u001b[0m\n\u001b[1;33m    'user_id':'1,\u001b[0m\n\u001b[1;37m              ^\u001b[0m\n\u001b[1;31mSyntaxError\u001b[0m\u001b[1;31m:\u001b[0m unterminated string literal (detected at line 23)\n"
     ]
    }
   ],
   "source": [
    "import pandas as pd\n",
    "from pydantic import BaseModel\n",
    "from typing import Text,List,Optional,Union\n",
    "import datetime\n",
    "\n",
    "class recipe(BaseModel):\n",
    "    id:str\n",
    "    name:str\n",
    "    description:str\n",
    "    user_id:int = 1\n",
    "    created_at:datetime.datetime | None = None\n",
    "    updated_at:datetime.datetime | None = None\n",
    "\n",
    "df_ingredients = pd.read_csv('../db/ingredients.csv')\n",
    "df_recipes = pd.read_csv('../db/recipes.csv')\n",
    "df_itr = pd.read_csv('../db/ingredients_recipes.csv')\n",
    "df_test = pd.read_csv('test.csv')\n",
    "\n",
    "dictionary = {\n",
    "    'id':'123',\n",
    "    'name':'Ehytan',\n",
    "    'description':'Probando diccionario',\n",
    "    'user_id':'1',\n",
    "    'created_at':datetime.datetime.now(),\n",
    "    'updated_at':datetime.datetime.now()\n",
    "}"
   ]
  },
  {
   "cell_type": "code",
   "execution_count": null,
   "metadata": {},
   "outputs": [
    {
     "data": {
      "text/html": [
       "<div>\n",
       "<style scoped>\n",
       "    .dataframe tbody tr th:only-of-type {\n",
       "        vertical-align: middle;\n",
       "    }\n",
       "\n",
       "    .dataframe tbody tr th {\n",
       "        vertical-align: top;\n",
       "    }\n",
       "\n",
       "    .dataframe thead th {\n",
       "        text-align: right;\n",
       "    }\n",
       "</style>\n",
       "<table border=\"1\" class=\"dataframe\">\n",
       "  <thead>\n",
       "    <tr style=\"text-align: right;\">\n",
       "      <th></th>\n",
       "      <th>id</th>\n",
       "      <th>name</th>\n",
       "      <th>description</th>\n",
       "      <th>user_id</th>\n",
       "      <th>created_at</th>\n",
       "      <th>updated_at</th>\n",
       "    </tr>\n",
       "  </thead>\n",
       "  <tbody>\n",
       "    <tr>\n",
       "      <th>0</th>\n",
       "      <td>1</td>\n",
       "      <td>Ehytan</td>\n",
       "      <td>probando post</td>\n",
       "      <td>1</td>\n",
       "      <td>2023-01-07 05:52:11.514755</td>\n",
       "      <td>2023-01-07 05:52:11.514755</td>\n",
       "    </tr>\n",
       "  </tbody>\n",
       "</table>\n",
       "</div>"
      ],
      "text/plain": [
       "   id    name    description  user_id                  created_at  \\\n",
       "0   1  Ehytan  probando post        1  2023-01-07 05:52:11.514755   \n",
       "\n",
       "                   updated_at  \n",
       "0  2023-01-07 05:52:11.514755  "
      ]
     },
     "execution_count": 54,
     "metadata": {},
     "output_type": "execute_result"
    }
   ],
   "source": [
    "df_test[df_test[\"id\"] == 1]"
   ]
  }
 ],
 "metadata": {
  "kernelspec": {
   "display_name": "Python 3",
   "language": "python",
   "name": "python3"
  },
  "language_info": {
   "codemirror_mode": {
    "name": "ipython",
    "version": 3
   },
   "file_extension": ".py",
   "mimetype": "text/x-python",
   "name": "python",
   "nbconvert_exporter": "python",
   "pygments_lexer": "ipython3",
   "version": "3.11.1"
  },
  "orig_nbformat": 4,
  "vscode": {
   "interpreter": {
    "hash": "3cf8062e0d4094a41cff688a2fa12585bca3a3405bf14bf99c0a003ff4f4e5ef"
   }
  }
 },
 "nbformat": 4,
 "nbformat_minor": 2
}
