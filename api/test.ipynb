{
 "cells": [
  {
   "cell_type": "code",
   "execution_count": 3,
   "metadata": {},
   "outputs": [],
   "source": [
    "import pandas as pd\n",
    "\n",
    "#df_ingredients = pd.read_csv('../db/ingredients.csv')\n",
    "df_itr_test = pd.read_csv('../db/ingredients_recipes_test.csv')\n",
    "df_ingredients = pd.read_csv('../db/ingredient_test.csv')\n",
    "#df_recipes = pd.read_csv('../db/recipes.csv')\n",
    "df_recipes_t = pd.read_csv('../db/recipes_test.csv')\n",
    "#df_itr = pd.read_csv('../db/ingredients_recipes.csv')\n",
    "\n",
    "dictionary = {\n",
    "    'id':0,\n",
    "    'name':'Ehytan',\n",
    "    'description':'Probando diccionario',\n",
    "    'user_id':1,\n",
    "    'created_at':'2023-01-07 05:52:11.514755',\n",
    "    'updated_at':'2023-01-07 05:52:11.514755'\n",
    "}\n",
    "test = {\n",
    "  \"id\": {\n",
    "    \"229\": 290,\n",
    "    \"230\": 291,\n",
    "    \"231\": 292,\n",
    "    \"232\": 293,\n",
    "    \"233\": 294,\n",
    "    \"234\": 295,\n",
    "    \"235\": 297,\n",
    "    \"236\": 298,\n",
    "    \"237\": 299,\n",
    "    \"238\": 300\n",
    "  },\n",
    "  \"name\": {\n",
    "    \"229\": \"fideos chinos de trigo\",\n",
    "    \"230\": \"ajetes\",\n",
    "    \"231\": \"leche evaporada\",\n",
    "    \"232\": \"vermut blanco\",\n",
    "    \"233\": \"palometa\",\n",
    "    \"234\": \"prebella\",\n",
    "    \"235\": \"perdiz escabechada\",\n",
    "    \"236\": \"higo\",\n",
    "    \"237\": \"ternera filetes\",\n",
    "    \"238\": \"shiitake\"\n",
    "  }\n",
    "}\n"
   ]
  },
  {
   "cell_type": "code",
   "execution_count": 4,
   "metadata": {},
   "outputs": [
    {
     "ename": "NameError",
     "evalue": "name 'df_ingredients' is not defined",
     "output_type": "error",
     "traceback": [
      "\u001b[1;31m---------------------------------------------------------------------------\u001b[0m",
      "\u001b[1;31mNameError\u001b[0m                                 Traceback (most recent call last)",
      "Cell \u001b[1;32mIn[4], line 1\u001b[0m\n\u001b[1;32m----> 1\u001b[0m df \u001b[39m=\u001b[39m df_ingredients[df_ingredients[\u001b[39m'\u001b[39m\u001b[39mid\u001b[39m\u001b[39m'\u001b[39m] \u001b[39m==\u001b[39m i]\n",
      "\u001b[1;31mNameError\u001b[0m: name 'df_ingredients' is not defined"
     ]
    }
   ],
   "source": [
    "df = df_ingredients[df_ingredients['id'] == i]"
   ]
  }
 ],
 "metadata": {
  "kernelspec": {
   "display_name": "Python 3",
   "language": "python",
   "name": "python3"
  },
  "language_info": {
   "codemirror_mode": {
    "name": "ipython",
    "version": 3
   },
   "file_extension": ".py",
   "mimetype": "text/x-python",
   "name": "python",
   "nbconvert_exporter": "python",
   "pygments_lexer": "ipython3",
   "version": "3.11.1"
  },
  "orig_nbformat": 4,
  "vscode": {
   "interpreter": {
    "hash": "5238573367df39f7286bb46f9ff5f08f63a01a80960060ce41e3c79b190280fa"
   }
  }
 },
 "nbformat": 4,
 "nbformat_minor": 2
}
