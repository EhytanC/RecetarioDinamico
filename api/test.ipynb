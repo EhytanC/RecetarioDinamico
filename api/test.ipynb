{
 "cells": [
  {
   "cell_type": "code",
   "execution_count": 38,
   "metadata": {},
   "outputs": [
    {
     "data": {
      "text/html": [
       "<div>\n",
       "<style scoped>\n",
       "    .dataframe tbody tr th:only-of-type {\n",
       "        vertical-align: middle;\n",
       "    }\n",
       "\n",
       "    .dataframe tbody tr th {\n",
       "        vertical-align: top;\n",
       "    }\n",
       "\n",
       "    .dataframe thead th {\n",
       "        text-align: right;\n",
       "    }\n",
       "</style>\n",
       "<table border=\"1\" class=\"dataframe\">\n",
       "  <thead>\n",
       "    <tr style=\"text-align: right;\">\n",
       "      <th></th>\n",
       "      <th>id</th>\n",
       "      <th>name</th>\n",
       "      <th>description</th>\n",
       "      <th>user_id</th>\n",
       "      <th>created_at</th>\n",
       "      <th>updated_at</th>\n",
       "    </tr>\n",
       "  </thead>\n",
       "  <tbody>\n",
       "    <tr>\n",
       "      <th>0</th>\n",
       "      <td>0</td>\n",
       "      <td>Ehytan</td>\n",
       "      <td>Primer post</td>\n",
       "      <td>1</td>\n",
       "      <td>01/09/2023, 14:31:09</td>\n",
       "      <td>01/09/2023, 14:31:09</td>\n",
       "    </tr>\n",
       "    <tr>\n",
       "      <th>1</th>\n",
       "      <td>1</td>\n",
       "      <td>Ehytan</td>\n",
       "      <td>Segundo post</td>\n",
       "      <td>1</td>\n",
       "      <td>01/09/2023, 14:31:44</td>\n",
       "      <td>01/09/2023, 14:31:44</td>\n",
       "    </tr>\n",
       "  </tbody>\n",
       "</table>\n",
       "</div>"
      ],
      "text/plain": [
       "   id    name   description  user_id            created_at  \\\n",
       "0   0  Ehytan   Primer post        1  01/09/2023, 14:31:09   \n",
       "1   1  Ehytan  Segundo post        1  01/09/2023, 14:31:44   \n",
       "\n",
       "             updated_at  \n",
       "0  01/09/2023, 14:31:09  \n",
       "1  01/09/2023, 14:31:44  "
      ]
     },
     "execution_count": 38,
     "metadata": {},
     "output_type": "execute_result"
    }
   ],
   "source": [
    "import pandas as pd\n",
    "from pydantic import BaseModel\n",
    "from typing import Text,List,Optional,Union\n",
    "import datetime\n",
    "\n",
    "class recipe(BaseModel):\n",
    "    id:str\n",
    "    name:str\n",
    "    description:str\n",
    "    user_id:int = 1\n",
    "    created_at:datetime.datetime | None = None\n",
    "    updated_at:datetime.datetime | None = None\n",
    "\n",
    "df_ingredients = pd.read_csv('../db/ingredients.csv')\n",
    "df_recipes = pd.read_csv('../db/recipes.csv')\n",
    "df_itr = pd.read_csv('../db/ingredients_recipes.csv')\n",
    "df_test = pd.read_csv('../db/test.csv')\n",
    "\n",
    "dictionary = {\n",
    "    'id':0,\n",
    "    'name':'Ehytan',\n",
    "    'description':'Probando diccionario',\n",
    "    'user_id':1,\n",
    "    'created_at':'2023-01-07 05:52:11.514755',\n",
    "    'updated_at':'2023-01-07 05:52:11.514755'\n",
    "}\n",
    "df_test"
   ]
  },
  {
   "cell_type": "code",
   "execution_count": 39,
   "metadata": {},
   "outputs": [
    {
     "data": {
      "text/html": [
       "<div>\n",
       "<style scoped>\n",
       "    .dataframe tbody tr th:only-of-type {\n",
       "        vertical-align: middle;\n",
       "    }\n",
       "\n",
       "    .dataframe tbody tr th {\n",
       "        vertical-align: top;\n",
       "    }\n",
       "\n",
       "    .dataframe thead th {\n",
       "        text-align: right;\n",
       "    }\n",
       "</style>\n",
       "<table border=\"1\" class=\"dataframe\">\n",
       "  <thead>\n",
       "    <tr style=\"text-align: right;\">\n",
       "      <th></th>\n",
       "      <th>id</th>\n",
       "      <th>name</th>\n",
       "      <th>description</th>\n",
       "      <th>user_id</th>\n",
       "      <th>created_at</th>\n",
       "      <th>updated_at</th>\n",
       "    </tr>\n",
       "  </thead>\n",
       "  <tbody>\n",
       "    <tr>\n",
       "      <th>0</th>\n",
       "      <td>0</td>\n",
       "      <td>Cariman</td>\n",
       "      <td>Primer post</td>\n",
       "      <td>1</td>\n",
       "      <td>01/09/2023, 14:31:09</td>\n",
       "      <td>01/09/2023, 14:31:09</td>\n",
       "    </tr>\n",
       "    <tr>\n",
       "      <th>1</th>\n",
       "      <td>1</td>\n",
       "      <td>Ehytan</td>\n",
       "      <td>Segundo post</td>\n",
       "      <td>1</td>\n",
       "      <td>01/09/2023, 14:31:44</td>\n",
       "      <td>01/09/2023, 14:31:44</td>\n",
       "    </tr>\n",
       "  </tbody>\n",
       "</table>\n",
       "</div>"
      ],
      "text/plain": [
       "   id     name   description  user_id            created_at  \\\n",
       "0   0  Cariman   Primer post        1  01/09/2023, 14:31:09   \n",
       "1   1   Ehytan  Segundo post        1  01/09/2023, 14:31:44   \n",
       "\n",
       "             updated_at  \n",
       "0  01/09/2023, 14:31:09  \n",
       "1  01/09/2023, 14:31:44  "
      ]
     },
     "execution_count": 39,
     "metadata": {},
     "output_type": "execute_result"
    }
   ],
   "source": [
    "df_test.at[0,'name'] = 'Cariman'\n",
    "df_test"
   ]
  }
 ],
 "metadata": {
  "kernelspec": {
   "display_name": "Python 3",
   "language": "python",
   "name": "python3"
  },
  "language_info": {
   "codemirror_mode": {
    "name": "ipython",
    "version": 3
   },
   "file_extension": ".py",
   "mimetype": "text/x-python",
   "name": "python",
   "nbconvert_exporter": "python",
   "pygments_lexer": "ipython3",
   "version": "3.11.1"
  },
  "orig_nbformat": 4,
  "vscode": {
   "interpreter": {
    "hash": "5238573367df39f7286bb46f9ff5f08f63a01a80960060ce41e3c79b190280fa"
   }
  }
 },
 "nbformat": 4,
 "nbformat_minor": 2
}
