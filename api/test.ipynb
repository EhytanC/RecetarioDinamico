{
 "cells": [
  {
   "cell_type": "code",
   "execution_count": 57,
   "metadata": {},
   "outputs": [],
   "source": [
    "import pandas as pd\n",
    "from pydantic import BaseModel\n",
    "from typing import Text,List,Optional,Union\n",
    "import datetime\n",
    "\n",
    "df_ingredients = pd.read_csv('../db/ingredients.csv')\n",
    "df_test = pd.read_csv('../db/ingredient_test.csv')\n",
    "df_recipes = pd.read_csv('../db/recipes.csv')\n",
    "df_recipes_test = pd.read_csv('../db/recipes_test.csv')\n",
    "df_itr = pd.read_csv('../db/ingredients_recipes.csv')\n",
    "\n",
    "dictionary = {\n",
    "    'id':0,\n",
    "    'name':'Ehytan',\n",
    "    'description':'Probando diccionario',\n",
    "    'user_id':1,\n",
    "    'created_at':'2023-01-07 05:52:11.514755',\n",
    "    'updated_at':'2023-01-07 05:52:11.514755'\n",
    "}\n",
    "test = {\n",
    "  \"id\": {\n",
    "    \"229\": 290,\n",
    "    \"230\": 291,\n",
    "    \"231\": 292,\n",
    "    \"232\": 293,\n",
    "    \"233\": 294,\n",
    "    \"234\": 295,\n",
    "    \"235\": 297,\n",
    "    \"236\": 298,\n",
    "    \"237\": 299,\n",
    "    \"238\": 300\n",
    "  },\n",
    "  \"name\": {\n",
    "    \"229\": \"fideos chinos de trigo\",\n",
    "    \"230\": \"ajetes\",\n",
    "    \"231\": \"leche evaporada\",\n",
    "    \"232\": \"vermut blanco\",\n",
    "    \"233\": \"palometa\",\n",
    "    \"234\": \"prebella\",\n",
    "    \"235\": \"perdiz escabechada\",\n",
    "    \"236\": \"higo\",\n",
    "    \"237\": \"ternera filetes\",\n",
    "    \"238\": \"shiitake\"\n",
    "  }\n",
    "}\n"
   ]
  },
  {
   "cell_type": "code",
   "execution_count": 58,
   "metadata": {},
   "outputs": [
    {
     "data": {
      "text/html": [
       "<div>\n",
       "<style scoped>\n",
       "    .dataframe tbody tr th:only-of-type {\n",
       "        vertical-align: middle;\n",
       "    }\n",
       "\n",
       "    .dataframe tbody tr th {\n",
       "        vertical-align: top;\n",
       "    }\n",
       "\n",
       "    .dataframe thead th {\n",
       "        text-align: right;\n",
       "    }\n",
       "</style>\n",
       "<table border=\"1\" class=\"dataframe\">\n",
       "  <thead>\n",
       "    <tr style=\"text-align: right;\">\n",
       "      <th></th>\n",
       "      <th>ingredient_id</th>\n",
       "      <th>recipe_id</th>\n",
       "    </tr>\n",
       "  </thead>\n",
       "  <tbody>\n",
       "    <tr>\n",
       "      <th>123</th>\n",
       "      <td>53</td>\n",
       "      <td>39</td>\n",
       "    </tr>\n",
       "    <tr>\n",
       "      <th>403</th>\n",
       "      <td>109</td>\n",
       "      <td>39</td>\n",
       "    </tr>\n",
       "    <tr>\n",
       "      <th>406</th>\n",
       "      <td>110</td>\n",
       "      <td>39</td>\n",
       "    </tr>\n",
       "  </tbody>\n",
       "</table>\n",
       "</div>"
      ],
      "text/plain": [
       "     ingredient_id  recipe_id\n",
       "123             53         39\n",
       "403            109         39\n",
       "406            110         39"
      ]
     },
     "execution_count": 58,
     "metadata": {},
     "output_type": "execute_result"
    }
   ],
   "source": [
    "df_itr[df_itr[\"recipe_id\"] == 39]"
   ]
  }
 ],
 "metadata": {
  "kernelspec": {
   "display_name": "Python 3",
   "language": "python",
   "name": "python3"
  },
  "language_info": {
   "codemirror_mode": {
    "name": "ipython",
    "version": 3
   },
   "file_extension": ".py",
   "mimetype": "text/x-python",
   "name": "python",
   "nbconvert_exporter": "python",
   "pygments_lexer": "ipython3",
   "version": "3.11.1"
  },
  "orig_nbformat": 4,
  "vscode": {
   "interpreter": {
    "hash": "3cf8062e0d4094a41cff688a2fa12585bca3a3405bf14bf99c0a003ff4f4e5ef"
   }
  }
 },
 "nbformat": 4,
 "nbformat_minor": 2
}
